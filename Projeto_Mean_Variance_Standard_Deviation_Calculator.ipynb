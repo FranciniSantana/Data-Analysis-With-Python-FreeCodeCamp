{
  "nbformat": 4,
  "nbformat_minor": 0,
  "metadata": {
    "colab": {
      "provenance": [],
      "authorship_tag": "ABX9TyNz6tfziST2kqW2VdN474Rz",
      "include_colab_link": true
    },
    "kernelspec": {
      "name": "python3",
      "display_name": "Python 3"
    },
    "language_info": {
      "name": "python"
    }
  },
  "cells": [
    {
      "cell_type": "markdown",
      "metadata": {
        "id": "view-in-github",
        "colab_type": "text"
      },
      "source": [
        "<a href=\"https://colab.research.google.com/github/FranciniSantana/Data-Analysis-With-Python-FreeCodeCamp/blob/main/Projeto_Mean_Variance_Standard_Deviation_Calculator.ipynb\" target=\"_parent\"><img src=\"https://colab.research.google.com/assets/colab-badge.svg\" alt=\"Open In Colab\"/></a>"
      ]
    },
    {
      "cell_type": "markdown",
      "source": [
        "Create a function named calculate() in mean_var_std.py that uses Numpy to output the mean, variance, standard deviation, max, min, and sum of the rows, columns, and elements in a 3 x 3 matrix.\n",
        "\n",
        "The input of the function should be a list containing 9 digits. The function should convert the list into a 3 x 3 Numpy array, and then return a dictionary containing the mean, variance, standard deviation, max, min, and sum along both axes and for the flattened matrix.\n"
      ],
      "metadata": {
        "id": "KRBfDUDxGbRg"
      }
    },
    {
      "cell_type": "markdown",
      "source": [],
      "metadata": {
        "id": "e04IGHelGo_l"
      }
    },
    {
      "cell_type": "code",
      "source": [
        "import numpy as np\n",
        "import pandas as pd\n"
      ],
      "metadata": {
        "id": "1WeGw6pAHl7z"
      },
      "execution_count": 1,
      "outputs": []
    },
    {
      "cell_type": "code",
      "source": [
        "x = np.random.randint(100,size = (3,3))\n"
      ],
      "metadata": {
        "id": "CUduRfMVI0G-"
      },
      "execution_count": 2,
      "outputs": []
    },
    {
      "cell_type": "code",
      "source": [
        "x[[0,1,2]] # diferente de acessar uma lista por elemento, aqui eu aceso a linha inteira através do index."
      ],
      "metadata": {
        "colab": {
          "base_uri": "https://localhost:8080/"
        },
        "id": "jVCfeGgSRlwQ",
        "outputId": "d4df834c-0007-4611-c7a0-d621ce286684"
      },
      "execution_count": 3,
      "outputs": [
        {
          "output_type": "execute_result",
          "data": {
            "text/plain": [
              "array([[37, 97, 81],\n",
              "       [46, 10, 84],\n",
              "       [99, 78, 94]])"
            ]
          },
          "metadata": {},
          "execution_count": 3
        }
      ]
    },
    {
      "cell_type": "code",
      "source": [
        "def calculate():\n",
        "  x = np.array(x)\n"
      ],
      "metadata": {
        "id": "lcLpzTe_Ho-l"
      },
      "execution_count": 4,
      "outputs": []
    },
    {
      "cell_type": "markdown",
      "source": [
        "💡 Ler esse material: https://pythonexamples.org/numpy-mean/"
      ],
      "metadata": {
        "id": "JQ2ELJZ-Ktjc"
      }
    },
    {
      "cell_type": "code",
      "source": [
        "list = [0,1,2,3,4,5,6,7,8] # variável contendo uma lista com 9 elementos"
      ],
      "metadata": {
        "id": "9hOUse1gYQse"
      },
      "execution_count": 5,
      "outputs": []
    },
    {
      "cell_type": "code",
      "source": [
        "arr = np.array(list)\n",
        "arr = arr.reshape(3,3)\n",
        "\n",
        "arr"
      ],
      "metadata": {
        "colab": {
          "base_uri": "https://localhost:8080/"
        },
        "id": "t9yHoTBD5OjZ",
        "outputId": "8a5a23c7-aa80-4aae-add8-9406c34d7737"
      },
      "execution_count": 11,
      "outputs": [
        {
          "output_type": "execute_result",
          "data": {
            "text/plain": [
              "array([[0, 1, 2],\n",
              "       [3, 4, 5],\n",
              "       [6, 7, 8]])"
            ]
          },
          "metadata": {},
          "execution_count": 11
        }
      ]
    },
    {
      "cell_type": "code",
      "source": [
        "array = []  # para criar um array usei o método append para separar os elementos da lista em 3 listas\n",
        "\n",
        "array.append(list[0:3])\n",
        "array.append(list[3:6])\n",
        "array.append(list[6:9])\n",
        "\n",
        "\n",
        "array"
      ],
      "metadata": {
        "colab": {
          "base_uri": "https://localhost:8080/"
        },
        "id": "M0NKN7rW6Tng",
        "outputId": "c472d127-4e0a-4afd-9ab9-ca0791bbb161"
      },
      "execution_count": 6,
      "outputs": [
        {
          "output_type": "execute_result",
          "data": {
            "text/plain": [
              "[[0, 1, 2], [3, 4, 5], [6, 7, 8]]"
            ]
          },
          "metadata": {},
          "execution_count": 6
        }
      ]
    },
    {
      "cell_type": "code",
      "source": [
        "a = np.array(array) # para transformar as três listas em um array usei o método np.array()\n",
        "a"
      ],
      "metadata": {
        "colab": {
          "base_uri": "https://localhost:8080/"
        },
        "id": "tmLrcfc48sFy",
        "outputId": "259785e7-566e-48d9-a177-462af337146d"
      },
      "execution_count": 7,
      "outputs": [
        {
          "output_type": "execute_result",
          "data": {
            "text/plain": [
              "array([[0, 1, 2],\n",
              "       [3, 4, 5],\n",
              "       [6, 7, 8]])"
            ]
          },
          "metadata": {},
          "execution_count": 7
        }
      ]
    },
    {
      "cell_type": "code",
      "source": [
        "from numpy.core.memmap import dtype\n",
        "from numpy.core.fromnumeric import mean\n",
        "mean_ = [a.mean(axis=0) , a.mean(axis = 1 ), a.mean()]\n",
        "var_ = [a.var(axis=0) , a.var(axis = 1 ), a.var()]\n",
        "std_ = [a.std(axis=0) , a.std(axis = 1 ), a.std()]\n",
        "min_ = [a.min(axis=0) , a.min(axis = 1 ), a.min()]\n",
        "max_ = [a.max(axis=0) , a.max(axis = 1 ), a.max()]\n",
        "\n",
        "\n",
        "\n",
        "\n",
        "                                             \n",
        "print(mean_)\n",
        "print(var_)\n",
        "print(std_)\n",
        "print(min_)\n",
        "print(max_)\n",
        "#print(type(mean_)\n"
      ],
      "metadata": {
        "id": "pY4axaDD_qMC",
        "colab": {
          "base_uri": "https://localhost:8080/"
        },
        "outputId": "2e6660d4-108a-4191-9b2f-52bd7636257e"
      },
      "execution_count": 8,
      "outputs": [
        {
          "output_type": "stream",
          "name": "stdout",
          "text": [
            "[array([3., 4., 5.]), array([1., 4., 7.]), 4.0]\n",
            "[array([6., 6., 6.]), array([0.66666667, 0.66666667, 0.66666667]), 6.666666666666667]\n",
            "[array([2.44948974, 2.44948974, 2.44948974]), array([0.81649658, 0.81649658, 0.81649658]), 2.581988897471611]\n",
            "[array([0, 1, 2]), array([0, 3, 6]), 0]\n",
            "[array([6, 7, 8]), array([2, 5, 8]), 8]\n"
          ]
        }
      ]
    },
    {
      "cell_type": "code",
      "source": [
        "teste = a.mean(axis=0)\n",
        "type(teste)"
      ],
      "metadata": {
        "colab": {
          "base_uri": "https://localhost:8080/"
        },
        "id": "rABAnYBTJzGx",
        "outputId": "148f0c3a-bc47-4214-bee1-88b58fa7db83"
      },
      "execution_count": 9,
      "outputs": [
        {
          "output_type": "execute_result",
          "data": {
            "text/plain": [
              "numpy.ndarray"
            ]
          },
          "metadata": {},
          "execution_count": 9
        }
      ]
    },
    {
      "cell_type": "code",
      "source": [
        "calculate([0,1,2,3,4,5,6,7,8])"
      ],
      "metadata": {
        "colab": {
          "base_uri": "https://localhost:8080/"
        },
        "id": "dr-_OfyX5qeE",
        "outputId": "678d4e32-6d09-4e20-fc8a-abcc417250ca"
      },
      "execution_count": 22,
      "outputs": [
        {
          "output_type": "execute_result",
          "data": {
            "text/plain": [
              "<function __main__.calculate(list)>"
            ]
          },
          "metadata": {},
          "execution_count": 22
        }
      ]
    },
    {
      "cell_type": "code",
      "source": [
        "def calculate(list):\n",
        "  if len(list) != 9:\n",
        "    raise ValueError(\"List must contain nine numbers.\")\n",
        "  else:\n",
        "    arr = np.array(list)\n",
        "    arr = arr.reshape(3, 3)\n",
        "    mean = [np.mean(arr, axis=0).tolist(), np.mean(arr, axis=1).tolist(), np.mean(arr)]\n",
        "    var = [np.var(arr, axis=0).tolist(), np.var(arr, axis=1).tolist(), np.var(arr)]\n",
        "    std = [np.std(arr, axis=0).tolist(), np.std(arr, axis=1).tolist(), np.std(arr)]\n",
        "    mx = [np.max(arr, axis=0).tolist(), np.max(arr, axis=1).tolist(), np.max(arr)]\n",
        "    mn = [np.min(arr, axis=0).tolist(), np.min(arr, axis=1).tolist(), np.min(arr)]\n",
        "    s = [np.sum(arr, axis=0).tolist(), np.sum(arr, axis=1).tolist(), np.sum(arr)]\n",
        "  \n",
        "    calculations = {\n",
        "      'mean' : mean,\n",
        "      'variance' : var,\n",
        "      'standard deviation' : std,\n",
        "      'max' : mx,\n",
        "      'min' : mn,\n",
        "      'sum' : s,\n",
        "    }\n",
        "\n",
        "    return calculations\n"
      ],
      "metadata": {
        "id": "Wf5QbIyu5uVK"
      },
      "execution_count": 25,
      "outputs": []
    },
    {
      "cell_type": "code",
      "source": [
        "b = [0,1,2,3,4,5,6,7,8]\n",
        "calculate(b)"
      ],
      "metadata": {
        "colab": {
          "base_uri": "https://localhost:8080/"
        },
        "id": "qqQ5t6YF7QSI",
        "outputId": "931aca7f-f1d3-417b-fc55-acd721f03ec1"
      },
      "execution_count": 26,
      "outputs": [
        {
          "output_type": "execute_result",
          "data": {
            "text/plain": [
              "{'mean': [[3.0, 4.0, 5.0], [1.0, 4.0, 7.0], 4.0],\n",
              " 'variance': [[6.0, 6.0, 6.0],\n",
              "  [0.6666666666666666, 0.6666666666666666, 0.6666666666666666],\n",
              "  6.666666666666667],\n",
              " 'standard deviation': [[2.449489742783178,\n",
              "   2.449489742783178,\n",
              "   2.449489742783178],\n",
              "  [0.816496580927726, 0.816496580927726, 0.816496580927726],\n",
              "  2.581988897471611],\n",
              " 'max': [[6, 7, 8], [2, 5, 8], 8],\n",
              " 'min': [[0, 1, 2], [0, 3, 6], 0],\n",
              " 'sum': [[9, 12, 15], [3, 12, 21], 36]}"
            ]
          },
          "metadata": {},
          "execution_count": 26
        }
      ]
    },
    {
      "cell_type": "code",
      "source": [],
      "metadata": {
        "id": "4FEv07WY7lOC"
      },
      "execution_count": null,
      "outputs": []
    }
  ]
}