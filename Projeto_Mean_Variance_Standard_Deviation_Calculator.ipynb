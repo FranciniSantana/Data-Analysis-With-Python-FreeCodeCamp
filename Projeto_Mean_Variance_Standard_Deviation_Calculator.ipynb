{
  "nbformat": 4,
  "nbformat_minor": 0,
  "metadata": {
    "colab": {
      "provenance": [],
      "authorship_tag": "ABX9TyP96RKt1zyXz+Mfo9CbRJwE",
      "include_colab_link": true
    },
    "kernelspec": {
      "name": "python3",
      "display_name": "Python 3"
    },
    "language_info": {
      "name": "python"
    }
  },
  "cells": [
    {
      "cell_type": "markdown",
      "metadata": {
        "id": "view-in-github",
        "colab_type": "text"
      },
      "source": [
        "<a href=\"https://colab.research.google.com/github/FranciniSantana/Data-Analysis-With-Python-FreeCodeCamp/blob/main/Projeto_Mean_Variance_Standard_Deviation_Calculator.ipynb\" target=\"_parent\"><img src=\"https://colab.research.google.com/assets/colab-badge.svg\" alt=\"Open In Colab\"/></a>"
      ]
    },
    {
      "cell_type": "markdown",
      "source": [
        "Create a function named calculate() in mean_var_std.py that uses Numpy to output the mean, variance, standard deviation, max, min, and sum of the rows, columns, and elements in a 3 x 3 matrix.\n",
        "\n",
        "The input of the function should be a list containing 9 digits. The function should convert the list into a 3 x 3 Numpy array, and then return a dictionary containing the mean, variance, standard deviation, max, min, and sum along both axes and for the flattened matrix.\n"
      ],
      "metadata": {
        "id": "KRBfDUDxGbRg"
      }
    },
    {
      "cell_type": "markdown",
      "source": [],
      "metadata": {
        "id": "e04IGHelGo_l"
      }
    },
    {
      "cell_type": "code",
      "source": [
        "import numpy as np\n",
        "import pandas as pd\n"
      ],
      "metadata": {
        "id": "1WeGw6pAHl7z"
      },
      "execution_count": 1,
      "outputs": []
    },
    {
      "cell_type": "code",
      "source": [
        "x = np.random.randint(100,size = (3,3))\n"
      ],
      "metadata": {
        "id": "CUduRfMVI0G-"
      },
      "execution_count": 2,
      "outputs": []
    },
    {
      "cell_type": "code",
      "source": [
        "x[[0,1,2]] # diferente de acessar uma lista por elemento, aqui eu aceso a linha inteira através do index."
      ],
      "metadata": {
        "colab": {
          "base_uri": "https://localhost:8080/"
        },
        "id": "jVCfeGgSRlwQ",
        "outputId": "9bcf690c-5f7a-4474-88b9-0b724ee7c3f6"
      },
      "execution_count": 3,
      "outputs": [
        {
          "output_type": "execute_result",
          "data": {
            "text/plain": [
              "array([[41, 35, 60],\n",
              "       [73, 48, 73],\n",
              "       [45, 21, 67]])"
            ]
          },
          "metadata": {},
          "execution_count": 3
        }
      ]
    },
    {
      "cell_type": "code",
      "source": [
        "def calculate():\n",
        "  x = np.array(x)\n"
      ],
      "metadata": {
        "id": "lcLpzTe_Ho-l"
      },
      "execution_count": 4,
      "outputs": []
    },
    {
      "cell_type": "markdown",
      "source": [
        "💡 Ler esse material: https://pythonexamples.org/numpy-mean/"
      ],
      "metadata": {
        "id": "JQ2ELJZ-Ktjc"
      }
    },
    {
      "cell_type": "code",
      "source": [
        "list = [0,1,2,3,4,5,6,7,8] # variável contendo uma lista com 9 elementos"
      ],
      "metadata": {
        "id": "9hOUse1gYQse"
      },
      "execution_count": 6,
      "outputs": []
    },
    {
      "cell_type": "code",
      "source": [
        "array = []  # para criar um array usei o método append para separar os elementos da lista em 3 listas\n",
        "\n",
        "array.append(list[0:3])\n",
        "array.append(list[3:6])\n",
        "array.append(list[6:9])\n",
        "\n",
        "\n",
        "array"
      ],
      "metadata": {
        "colab": {
          "base_uri": "https://localhost:8080/"
        },
        "id": "M0NKN7rW6Tng",
        "outputId": "4c5e47e7-8105-435a-f3be-3136347a4417"
      },
      "execution_count": 7,
      "outputs": [
        {
          "output_type": "execute_result",
          "data": {
            "text/plain": [
              "[[0, 1, 2], [3, 4, 5], [6, 7, 8]]"
            ]
          },
          "metadata": {},
          "execution_count": 7
        }
      ]
    },
    {
      "cell_type": "code",
      "source": [
        "a = np.array(array) # para transformar as três listas em um array usei o método np.array()\n",
        "a"
      ],
      "metadata": {
        "colab": {
          "base_uri": "https://localhost:8080/"
        },
        "id": "tmLrcfc48sFy",
        "outputId": "487e7638-a295-4073-d3c5-6e779e09f9f7"
      },
      "execution_count": 23,
      "outputs": [
        {
          "output_type": "execute_result",
          "data": {
            "text/plain": [
              "array([[0, 1, 2],\n",
              "       [3, 4, 5],\n",
              "       [6, 7, 8]])"
            ]
          },
          "metadata": {},
          "execution_count": 23
        }
      ]
    },
    {
      "cell_type": "code",
      "source": [
        "from numpy.core.memmap import dtype\n",
        "from numpy.core.fromnumeric import mean\n",
        "mean_ = [a.mean(axis=0) , a.mean(axis = 1 ), a.mean()]\n",
        "var_ = [a.var(axis=0) , a.var(axis = 1 ), a.var()]\n",
        "std_ = [a.std(axis=0) , a.std(axis = 1 ), a.std()]\n",
        "min_ = [a.min(axis=0) , a.min(axis = 1 ), a.min()]\n",
        "max_ = [a.max(axis=0) , a.max(axis = 1 ), a.max()]\n",
        "\n",
        "\n",
        "\n",
        "\n",
        "                                             \n",
        "print(mean_)\n",
        "print(var_)\n",
        "print(std_)\n",
        "print(min_)\n",
        "print(max_)\n",
        "#print(type(mean_)\n"
      ],
      "metadata": {
        "id": "pY4axaDD_qMC",
        "colab": {
          "base_uri": "https://localhost:8080/"
        },
        "outputId": "bdae3220-1558-4610-e6bb-900ea6fd7e51"
      },
      "execution_count": 50,
      "outputs": [
        {
          "output_type": "stream",
          "name": "stdout",
          "text": [
            "[array([3., 4., 5.]), array([1., 4., 7.]), 4.0]\n",
            "[array([6., 6., 6.]), array([0.66666667, 0.66666667, 0.66666667]), 6.666666666666667]\n",
            "[array([2.44948974, 2.44948974, 2.44948974]), array([0.81649658, 0.81649658, 0.81649658]), 2.581988897471611]\n",
            "[array([0, 1, 2]), array([0, 3, 6]), 0]\n",
            "[array([6, 7, 8]), array([2, 5, 8]), 8]\n"
          ]
        }
      ]
    },
    {
      "cell_type": "code",
      "source": [
        "teste = a.mean(axis=0)\n",
        "type(teste)"
      ],
      "metadata": {
        "colab": {
          "base_uri": "https://localhost:8080/"
        },
        "id": "rABAnYBTJzGx",
        "outputId": "28e313c2-6b73-4bcc-a37d-7051da259bf7"
      },
      "execution_count": 47,
      "outputs": [
        {
          "output_type": "execute_result",
          "data": {
            "text/plain": [
              "numpy.ndarray"
            ]
          },
          "metadata": {},
          "execution_count": 47
        }
      ]
    },
    {
      "cell_type": "code",
      "source": [],
      "metadata": {
        "id": "WCJRpnRbNmtx"
      },
      "execution_count": null,
      "outputs": []
    }
  ]
}